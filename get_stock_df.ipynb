{
 "cells": [
  {
   "cell_type": "code",
   "execution_count": 1,
   "metadata": {},
   "outputs": [
    {
     "data": {
      "text/html": [
       "<div>\n",
       "<style scoped>\n",
       "    .dataframe tbody tr th:only-of-type {\n",
       "        vertical-align: middle;\n",
       "    }\n",
       "\n",
       "    .dataframe tbody tr th {\n",
       "        vertical-align: top;\n",
       "    }\n",
       "\n",
       "    .dataframe thead th {\n",
       "        text-align: right;\n",
       "    }\n",
       "</style>\n",
       "<table border=\"1\" class=\"dataframe\">\n",
       "  <thead>\n",
       "    <tr style=\"text-align: right;\">\n",
       "      <th></th>\n",
       "      <th>Open</th>\n",
       "      <th>High</th>\n",
       "      <th>Low</th>\n",
       "      <th>Close</th>\n",
       "      <th>Volume</th>\n",
       "      <th>Dividends</th>\n",
       "      <th>Stock Splits</th>\n",
       "      <th>Capital Gains</th>\n",
       "    </tr>\n",
       "    <tr>\n",
       "      <th>Date</th>\n",
       "      <th></th>\n",
       "      <th></th>\n",
       "      <th></th>\n",
       "      <th></th>\n",
       "      <th></th>\n",
       "      <th></th>\n",
       "      <th></th>\n",
       "      <th></th>\n",
       "    </tr>\n",
       "  </thead>\n",
       "  <tbody>\n",
       "    <tr>\n",
       "      <th>2013-07-24 00:00:00-04:00</th>\n",
       "      <td>27.969668</td>\n",
       "      <td>27.969668</td>\n",
       "      <td>27.656881</td>\n",
       "      <td>27.722733</td>\n",
       "      <td>3761200</td>\n",
       "      <td>0.0</td>\n",
       "      <td>0.0</td>\n",
       "      <td>0.0</td>\n",
       "    </tr>\n",
       "    <tr>\n",
       "      <th>2013-07-25 00:00:00-04:00</th>\n",
       "      <td>27.706267</td>\n",
       "      <td>27.829737</td>\n",
       "      <td>27.648649</td>\n",
       "      <td>27.829737</td>\n",
       "      <td>3774100</td>\n",
       "      <td>0.0</td>\n",
       "      <td>0.0</td>\n",
       "      <td>0.0</td>\n",
       "    </tr>\n",
       "    <tr>\n",
       "      <th>2013-07-26 00:00:00-04:00</th>\n",
       "      <td>27.739201</td>\n",
       "      <td>27.895593</td>\n",
       "      <td>27.607502</td>\n",
       "      <td>27.887363</td>\n",
       "      <td>338600</td>\n",
       "      <td>0.0</td>\n",
       "      <td>0.0</td>\n",
       "      <td>0.0</td>\n",
       "    </tr>\n",
       "    <tr>\n",
       "      <th>2013-07-29 00:00:00-04:00</th>\n",
       "      <td>27.846195</td>\n",
       "      <td>27.887351</td>\n",
       "      <td>27.796807</td>\n",
       "      <td>27.846195</td>\n",
       "      <td>426600</td>\n",
       "      <td>0.0</td>\n",
       "      <td>0.0</td>\n",
       "      <td>0.0</td>\n",
       "    </tr>\n",
       "    <tr>\n",
       "      <th>2013-07-30 00:00:00-04:00</th>\n",
       "      <td>27.936738</td>\n",
       "      <td>28.002589</td>\n",
       "      <td>27.813272</td>\n",
       "      <td>27.879120</td>\n",
       "      <td>380000</td>\n",
       "      <td>0.0</td>\n",
       "      <td>0.0</td>\n",
       "      <td>0.0</td>\n",
       "    </tr>\n",
       "  </tbody>\n",
       "</table>\n",
       "</div>"
      ],
      "text/plain": [
       "                                Open       High        Low      Close  \\\n",
       "Date                                                                    \n",
       "2013-07-24 00:00:00-04:00  27.969668  27.969668  27.656881  27.722733   \n",
       "2013-07-25 00:00:00-04:00  27.706267  27.829737  27.648649  27.829737   \n",
       "2013-07-26 00:00:00-04:00  27.739201  27.895593  27.607502  27.887363   \n",
       "2013-07-29 00:00:00-04:00  27.846195  27.887351  27.796807  27.846195   \n",
       "2013-07-30 00:00:00-04:00  27.936738  28.002589  27.813272  27.879120   \n",
       "\n",
       "                            Volume  Dividends  Stock Splits  Capital Gains  \n",
       "Date                                                                        \n",
       "2013-07-24 00:00:00-04:00  3761200        0.0           0.0            0.0  \n",
       "2013-07-25 00:00:00-04:00  3774100        0.0           0.0            0.0  \n",
       "2013-07-26 00:00:00-04:00   338600        0.0           0.0            0.0  \n",
       "2013-07-29 00:00:00-04:00   426600        0.0           0.0            0.0  \n",
       "2013-07-30 00:00:00-04:00   380000        0.0           0.0            0.0  "
      ]
     },
     "execution_count": 1,
     "metadata": {},
     "output_type": "execute_result"
    }
   ],
   "source": [
    "import matplotlib.pyplot as plt\n",
    "import pandas as pd\n",
    "import numpy as np\n",
    "import yfinance as yf\n",
    "from yahoofinancials import YahooFinancials\n",
    "\n",
    "\n",
    "ticker = yf.Ticker(\"usmv\")\n",
    "tsd = ticker.history(period=\"10y\")\n",
    "tsd.head()"
   ]
  },
  {
   "cell_type": "code",
   "execution_count": 2,
   "metadata": {},
   "outputs": [
    {
     "data": {
      "text/plain": [
       "2517"
      ]
     },
     "execution_count": 2,
     "metadata": {},
     "output_type": "execute_result"
    }
   ],
   "source": [
    "len(tsd)"
   ]
  },
  {
   "cell_type": "code",
   "execution_count": null,
   "metadata": {},
   "outputs": [],
   "source": []
  }
 ],
 "metadata": {
  "kernelspec": {
   "display_name": "Python 3",
   "language": "python",
   "name": "python3"
  },
  "language_info": {
   "codemirror_mode": {
    "name": "ipython",
    "version": 3
   },
   "file_extension": ".py",
   "mimetype": "text/x-python",
   "name": "python",
   "nbconvert_exporter": "python",
   "pygments_lexer": "ipython3",
   "version": "3.10.5"
  },
  "orig_nbformat": 4
 },
 "nbformat": 4,
 "nbformat_minor": 2
}
